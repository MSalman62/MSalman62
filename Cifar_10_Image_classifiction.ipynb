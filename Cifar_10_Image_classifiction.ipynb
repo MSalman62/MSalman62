{
  "cells": [
    {
      "cell_type": "markdown",
      "metadata": {
        "id": "view-in-github",
        "colab_type": "text"
      },
      "source": [
        "<a href=\"https://colab.research.google.com/github/MSalman62/MSalman62/blob/main/Cifar_10_Image_classifiction.ipynb\" target=\"_parent\"><img src=\"https://colab.research.google.com/assets/colab-badge.svg\" alt=\"Open In Colab\"/></a>"
      ]
    },
    {
      "cell_type": "markdown",
      "metadata": {
        "id": "0RrMLg0ZY9aC"
      },
      "source": [
        "#Cifar-10 Image Classifiction\n",
        "The CIFAR-10 dataset consists of 60000 32x32 color images in 10 classes, with 6000 images per class. There are 50000 training images and 10000 test images."
      ]
    },
    {
      "cell_type": "markdown",
      "metadata": {
        "id": "QoJ4XQ7hY9Wp"
      },
      "source": [
        "###Problem Definition\n",
        "Given an image, can we predict the correct class of this image?\n",
        "\n",
        "The images are very small (32x32) and by visualizing them you will notice how difficult it is to distinguish them even for a human.\n",
        "\n",
        "In this notebook we are going to build a CNN model that can classify images of various objects. We have 10 class of images:\n",
        "\n",
        "- Airplane\n",
        "- Automobile\n",
        "- Bird\n",
        "- Cat\n",
        "- Deer\n",
        "- Dog\n",
        "- Frog\n",
        "- Horse\n",
        "- Ship\n",
        "- Truck"
      ]
    },
    {
      "cell_type": "markdown",
      "metadata": {
        "id": "mxXCNE6FVquf"
      },
      "source": [
        "##Importing Libraries"
      ]
    },
    {
      "cell_type": "code",
      "execution_count": 1,
      "metadata": {
        "id": "hR-qMq78-zrg"
      },
      "outputs": [],
      "source": [
        "import numpy as np\n",
        "# import pandas as pd\n",
        "import tensorflow as tf\n",
        "from tensorflow.keras.utils import to_categorical\n",
        "from matplotlib import pyplot as plt\n",
        "from tensorflow.keras import layers\n",
        "from tensorflow.keras import models\n",
        "from tensorflow.keras.preprocessing import image\n",
        "# %load_ext tensorboard"
      ]
    },
    {
      "cell_type": "markdown",
      "metadata": {
        "id": "Wo7m84OGTcpy"
      },
      "source": [
        "##Loading Data"
      ]
    },
    {
      "cell_type": "code",
      "execution_count": 2,
      "metadata": {
        "id": "IE5ZVOEd_RH7"
      },
      "outputs": [],
      "source": [
        "from tensorflow.keras.datasets import cifar10"
      ]
    },
    {
      "cell_type": "code",
      "execution_count": 3,
      "metadata": {
        "id": "DR7X06sb_Wrd",
        "colab": {
          "base_uri": "https://localhost:8080/"
        },
        "outputId": "337c111e-54aa-4fac-d834-2e8ff22537c2"
      },
      "outputs": [
        {
          "output_type": "stream",
          "name": "stdout",
          "text": [
            "Downloading data from https://www.cs.toronto.edu/~kriz/cifar-10-python.tar.gz\n",
            "170500096/170498071 [==============================] - 11s 0us/step\n",
            "170508288/170498071 [==============================] - 11s 0us/step\n"
          ]
        }
      ],
      "source": [
        "(x_train, y_train), (x_test, y_test) = cifar10.load_data()"
      ]
    },
    {
      "cell_type": "code",
      "source": [
        "print(\"x_train shape: \", np.shape(x_train))\n",
        "print(\"x_test shape: \", np.shape(x_test))\n",
        "print(\"y_train shape: \", np.shape(y_train))\n",
        "print(\"y_test shape: \", np.shape(y_test))"
      ],
      "metadata": {
        "colab": {
          "base_uri": "https://localhost:8080/"
        },
        "id": "s_XWBY-_WExx",
        "outputId": "7775d0d5-3358-48bc-fdea-c95a8d7d43fe"
      },
      "execution_count": 4,
      "outputs": [
        {
          "output_type": "stream",
          "name": "stdout",
          "text": [
            "x_train shape:  (50000, 32, 32, 3)\n",
            "x_test shape:  (10000, 32, 32, 3)\n",
            "y_train shape:  (50000, 1)\n",
            "y_test shape:  (10000, 1)\n"
          ]
        }
      ]
    },
    {
      "cell_type": "markdown",
      "metadata": {
        "id": "ofI-oF8OFcky"
      },
      "source": [
        "##Data Processing"
      ]
    },
    {
      "cell_type": "code",
      "execution_count": 5,
      "metadata": {
        "id": "f-RaJ-zNSspY"
      },
      "outputs": [],
      "source": [
        "classes_name = ['Airplane', 'Automobile', 'Bird', 'Cat', 'Deer', 'Dog', 'Frog', 'Horse', 'Ship', 'Truck']"
      ]
    },
    {
      "cell_type": "code",
      "execution_count": 6,
      "metadata": {
        "id": "LZ2Vf0f7Fy37"
      },
      "outputs": [],
      "source": [
        "#normalizing data\n",
        "x_train = x_train/255\n",
        "x_test = x_test/255"
      ]
    },
    {
      "cell_type": "code",
      "source": [
        "# # Initializing Input vector\n",
        "# class_vector =[2, 5, 6, 1, 4, 2, 3, 2]\n",
        "# print(class_vector)\n",
        "\n",
        "# # Applying the function on input class vector\n",
        "# # from keras.utils import to_categorical\n",
        "# output_matrix = to_categorical(class_vector, num_classes = 7, dtype =\"int32\")\n",
        "\n",
        "# print(output_matrix)\n"
      ],
      "metadata": {
        "id": "KXF4Qy6VYrxG"
      },
      "execution_count": 7,
      "outputs": []
    },
    {
      "cell_type": "code",
      "execution_count": 8,
      "metadata": {
        "id": "KG9tnnxyF682"
      },
      "outputs": [],
      "source": [
        "y_train = to_categorical(y_train, 10)\n",
        "y_test = to_categorical(y_test,10)"
      ]
    },
    {
      "cell_type": "markdown",
      "source": [
        "If we do not use it we will get this error.\n",
        "ValueError: Shapes (None, 1) and (None, 10) are incompatible"
      ],
      "metadata": {
        "id": "1_ksEv1QZsVq"
      }
    },
    {
      "cell_type": "code",
      "execution_count": 9,
      "metadata": {
        "colab": {
          "base_uri": "https://localhost:8080/",
          "height": 284
        },
        "id": "YvbQV0VVWi6o",
        "outputId": "f01f0e52-50e7-4ba1-cfd6-5f16a2ed7324"
      },
      "outputs": [
        {
          "output_type": "execute_result",
          "data": {
            "text/plain": [
              "<matplotlib.image.AxesImage at 0x7f1867ac9c50>"
            ]
          },
          "metadata": {},
          "execution_count": 9
        },
        {
          "output_type": "display_data",
          "data": {
            "image/png": "[encoded data removed]",
            "text/plain": [
              "<Figure size 432x288 with 1 Axes>"
            ]
          },
          "metadata": {
            "needs_background": "light"
          }
        }
      ],
      "source": [
        "plt.imshow(x_train[1])"
      ]
    },
    {
      "cell_type": "markdown",
      "metadata": {
        "id": "R1mThRkaV0k8"
      },
      "source": [
        "##Building Model"
      ]
    },
    {
      "cell_type": "code",
      "source": [
        "# #step1-convolution\n",
        "# custom_model.add(tf.keras.layers.Convolution2D(32, (3,3), input_shape = (32,32,3), activation='relu'))\n",
        "# #step2-maxpooling\n",
        "# custom_model.add(tf.keras.layers.MaxPooling2D(pool_size = (2,2)))\n",
        "# #step3-flattening \n",
        "# custom_model.add(tf.keras.layers.Flatten())\n",
        "# custom_model.add(tf.keras.layers.Dropout(0.5))\n",
        "# custom_model.add(tf.keras.layers.Dense(128, activation='relu'))\n",
        "# custom_model.add(tf.keras.layers.Dense(10, activation='softmax'))"
      ],
      "metadata": {
        "id": "BKQvTxI2DaYg"
      },
      "execution_count": null,
      "outputs": []
    },
    {
      "cell_type": "code",
      "execution_count": 19,
      "metadata": {
        "id": "NG24nP4S_axs"
      },
      "outputs": [],
      "source": [
        "#created empty model\n",
        "custom_model = models.Sequential()"
      ]
    },
    {
      "cell_type": "code",
      "execution_count": 20,
      "metadata": {
        "id": "uBVsSdXY_jmJ"
      },
      "outputs": [],
      "source": [
        "#adding layers to our model\n",
        "custom_model.add(layers.Conv2D(filters = 32, kernel_size=(3, 3), activation = 'relu', input_shape = x_train[0].shape, padding = 'same'))\n",
        "# custom_model.add(layers.BatchNormalization())\n",
        "custom_model.add(layers.MaxPooling2D((2, 2)))\n",
        "custom_model.add(layers.Dropout(0.2))\n",
        "\n",
        "\n",
        "custom_model.add(layers.Conv2D(64, (3, 3), activation = 'relu', padding = 'same'))\n",
        "# custom_model.add(layers.BatchNormalization())\n",
        "custom_model.add(layers.MaxPooling2D((2, 2)))\n",
        "custom_model.add(layers.Dropout(0.2))\n",
        "\n",
        "custom_model.add(layers.Conv2D(128, (3, 3), activation = 'relu', padding = 'same'))\n",
        "# custom_model.add(layers.BatchNormalization())\n",
        "custom_model.add(layers.MaxPooling2D((2, 2)))\n",
        "\n",
        "custom_model.add(layers.Flatten())\n",
        "custom_model.add(layers.Dropout(0.5))\n",
        "\n",
        "custom_model.add(layers.Dense(128, activation = \"relu\"))\n",
        "custom_model.add(tf.keras.layers.Dropout(rate=0.5))\n",
        "custom_model.add(layers.Dense(10, activation = \"softmax\"))"
      ]
    },
    {
      "cell_type": "code",
      "source": [
        ""
      ],
      "metadata": {
        "id": "kiUu9Gy_DZfk"
      },
      "execution_count": 20,
      "outputs": []
    },
    {
      "cell_type": "code",
      "execution_count": 21,
      "metadata": {
        "id": "xoHeGFePB9WP"
      },
      "outputs": [],
      "source": [
        "optimizers = tf.keras.optimizers\n",
        "custom_model.compile(loss='categorical_crossentropy',\n",
        "optimizer = optimizers.RMSprop(learning_rate = 0.0001), metrics=['accuracy']\n",
        ")"
      ]
    },
    {
      "cell_type": "code",
      "execution_count": 22,
      "metadata": {
        "colab": {
          "base_uri": "https://localhost:8080/"
        },
        "id": "7FC6gyRVVyam",
        "outputId": "02ef3ef6-3182-4184-8e5c-07ae40d19bf7"
      },
      "outputs": [
        {
          "output_type": "stream",
          "name": "stdout",
          "text": [
            "Model: \"sequential_1\"\n",
            "_________________________________________________________________\n",
            " Layer (type)                Output Shape              Param #   \n",
            "=================================================================\n",
            " conv2d_3 (Conv2D)           (None, 32, 32, 32)        896       \n",
            "                                                                 \n",
            " max_pooling2d_3 (MaxPooling  (None, 16, 16, 32)       0         \n",
            " 2D)                                                             \n",
            "                                                                 \n",
            " dropout_4 (Dropout)         (None, 16, 16, 32)        0         \n",
            "                                                                 \n",
            " conv2d_4 (Conv2D)           (None, 16, 16, 64)        18496     \n",
            "                                                                 \n",
            " max_pooling2d_4 (MaxPooling  (None, 8, 8, 64)         0         \n",
            " 2D)                                                             \n",
            "                                                                 \n",
            " dropout_5 (Dropout)         (None, 8, 8, 64)          0         \n",
            "                                                                 \n",
            " conv2d_5 (Conv2D)           (None, 8, 8, 128)         73856     \n",
            "                                                                 \n",
            " max_pooling2d_5 (MaxPooling  (None, 4, 4, 128)        0         \n",
            " 2D)                                                             \n",
            "                                                                 \n",
            " flatten_1 (Flatten)         (None, 2048)              0         \n",
            "                                                                 \n",
            " dropout_6 (Dropout)         (None, 2048)              0         \n",
            "                                                                 \n",
            " dense_2 (Dense)             (None, 128)               262272    \n",
            "                                                                 \n",
            " dropout_7 (Dropout)         (None, 128)               0         \n",
            "                                                                 \n",
            " dense_3 (Dense)             (None, 10)                1290      \n",
            "                                                                 \n",
            "=================================================================\n",
            "Total params: 356,810\n",
            "Trainable params: 356,810\n",
            "Non-trainable params: 0\n",
            "_________________________________________________________________\n"
          ]
        }
      ],
      "source": [
        "custom_model.summary()"
      ]
    },
    {
      "cell_type": "code",
      "source": [
        ""
      ],
      "metadata": {
        "id": "yPzCfnWiNjIy"
      },
      "execution_count": null,
      "outputs": []
    },
    {
      "cell_type": "code",
      "source": [
        "import pytz\n",
        "from datetime import datetime"
      ],
      "metadata": {
        "id": "0PfL-NtmNRaw"
      },
      "execution_count": 14,
      "outputs": []
    },
    {
      "cell_type": "code",
      "execution_count": 15,
      "metadata": {
        "colab": {
          "base_uri": "https://localhost:8080/",
          "height": 36
        },
        "id": "MCjLFrWhCmpq",
        "outputId": "c1a24822-dbd5-4b98-b2f5-f3b6e3b94097"
      },
      "outputs": [
        {
          "output_type": "execute_result",
          "data": {
            "application/vnd.google.colaboratory.intrinsic+json": {
              "type": "string"
            },
            "text/plain": [
              "'2022-03-05  13:56:58'"
            ]
          },
          "metadata": {},
          "execution_count": 15
        }
      ],
      "source": [
        "DateTimeNow = datetime.now(pytz.timezone('Asia/Karachi')).strftime(\"%Y-%m-%d  %H:%M:%S\")\n",
        "DateTimeNow"
      ]
    },
    {
      "cell_type": "code",
      "execution_count": 16,
      "metadata": {
        "id": "T4BBBy6fC6M2"
      },
      "outputs": [],
      "source": [
        "path = 'log ' + DateTimeNow"
      ]
    },
    {
      "cell_type": "code",
      "execution_count": null,
      "metadata": {
        "id": "4dLdfyA8IhfF"
      },
      "outputs": [],
      "source": [
        "# tensorboard_callbacks = tf.keras.callbacks.TensorBoard(log_dir = path, histogram_freq=1)"
      ]
    },
    {
      "cell_type": "code",
      "source": [
        "batchsize = 32"
      ],
      "metadata": {
        "id": "JzG-2GjIbKbO"
      },
      "execution_count": 17,
      "outputs": []
    },
    {
      "cell_type": "code",
      "execution_count": 23,
      "metadata": {
        "colab": {
          "base_uri": "https://localhost:8080/"
        },
        "id": "fr7XCoinC94b",
        "outputId": "7a569968-fd47-4e64-9cf6-6388e0204982"
      },
      "outputs": [
        {
          "output_type": "stream",
          "name": "stdout",
          "text": [
            "Epoch 1/50\n",
            "1407/1407 [==============================] - 18s 12ms/step - loss: 2.0625 - accuracy: 0.2323 - val_loss: 1.8508 - val_accuracy: 0.3402\n",
            "Epoch 2/50\n",
            "1407/1407 [==============================] - 17s 12ms/step - loss: 1.7765 - accuracy: 0.3485 - val_loss: 1.6409 - val_accuracy: 0.4102\n",
            "Epoch 3/50\n",
            "1407/1407 [==============================] - 18s 12ms/step - loss: 1.6390 - accuracy: 0.3982 - val_loss: 1.5090 - val_accuracy: 0.4598\n",
            "Epoch 4/50\n",
            "1407/1407 [==============================] - 17s 12ms/step - loss: 1.5482 - accuracy: 0.4316 - val_loss: 1.4128 - val_accuracy: 0.5034\n",
            "Epoch 5/50\n",
            "1407/1407 [==============================] - 16s 12ms/step - loss: 1.4795 - accuracy: 0.4636 - val_loss: 1.3446 - val_accuracy: 0.5268\n",
            "Epoch 6/50\n",
            "1407/1407 [==============================] - 16s 12ms/step - loss: 1.4308 - accuracy: 0.4804 - val_loss: 1.2815 - val_accuracy: 0.5494\n",
            "Epoch 7/50\n",
            "1407/1407 [==============================] - 16s 12ms/step - loss: 1.3824 - accuracy: 0.5011 - val_loss: 1.2863 - val_accuracy: 0.5512\n",
            "Epoch 8/50\n",
            "1407/1407 [==============================] - 16s 12ms/step - loss: 1.3415 - accuracy: 0.5195 - val_loss: 1.2308 - val_accuracy: 0.5608\n",
            "Epoch 9/50\n",
            "1407/1407 [==============================] - 17s 12ms/step - loss: 1.3052 - accuracy: 0.5355 - val_loss: 1.1960 - val_accuracy: 0.5750\n",
            "Epoch 10/50\n",
            "1407/1407 [==============================] - 16s 12ms/step - loss: 1.2738 - accuracy: 0.5447 - val_loss: 1.1704 - val_accuracy: 0.5812\n",
            "Epoch 11/50\n",
            "1407/1407 [==============================] - 17s 12ms/step - loss: 1.2396 - accuracy: 0.5592 - val_loss: 1.0994 - val_accuracy: 0.6110\n",
            "Epoch 12/50\n",
            "1407/1407 [==============================] - 17s 12ms/step - loss: 1.2121 - accuracy: 0.5717 - val_loss: 1.0773 - val_accuracy: 0.6134\n",
            "Epoch 13/50\n",
            "1407/1407 [==============================] - 16s 12ms/step - loss: 1.1888 - accuracy: 0.5797 - val_loss: 1.0314 - val_accuracy: 0.6324\n",
            "Epoch 14/50\n",
            "1407/1407 [==============================] - 17s 12ms/step - loss: 1.1651 - accuracy: 0.5892 - val_loss: 1.0029 - val_accuracy: 0.6444\n",
            "Epoch 15/50\n",
            "1407/1407 [==============================] - 17s 12ms/step - loss: 1.1418 - accuracy: 0.5987 - val_loss: 1.0120 - val_accuracy: 0.6374\n",
            "Epoch 16/50\n",
            "1407/1407 [==============================] - 17s 12ms/step - loss: 1.1243 - accuracy: 0.6044 - val_loss: 0.9665 - val_accuracy: 0.6596\n",
            "Epoch 17/50\n",
            "1407/1407 [==============================] - 16s 12ms/step - loss: 1.1063 - accuracy: 0.6114 - val_loss: 0.9783 - val_accuracy: 0.6502\n",
            "Epoch 18/50\n",
            "1407/1407 [==============================] - 16s 12ms/step - loss: 1.0873 - accuracy: 0.6181 - val_loss: 1.0042 - val_accuracy: 0.6426\n",
            "Epoch 19/50\n",
            "1407/1407 [==============================] - 16s 12ms/step - loss: 1.0747 - accuracy: 0.6230 - val_loss: 0.9195 - val_accuracy: 0.6752\n",
            "Epoch 20/50\n",
            "1407/1407 [==============================] - 16s 12ms/step - loss: 1.0593 - accuracy: 0.6282 - val_loss: 0.9167 - val_accuracy: 0.6788\n",
            "Epoch 21/50\n",
            "1407/1407 [==============================] - 16s 12ms/step - loss: 1.0429 - accuracy: 0.6352 - val_loss: 0.8748 - val_accuracy: 0.6952\n",
            "Epoch 22/50\n",
            "1407/1407 [==============================] - 17s 12ms/step - loss: 1.0347 - accuracy: 0.6384 - val_loss: 0.8656 - val_accuracy: 0.6982\n",
            "Epoch 23/50\n",
            "1407/1407 [==============================] - 17s 12ms/step - loss: 1.0155 - accuracy: 0.6456 - val_loss: 0.8843 - val_accuracy: 0.6978\n",
            "Epoch 24/50\n",
            "1407/1407 [==============================] - 17s 12ms/step - loss: 1.0094 - accuracy: 0.6486 - val_loss: 0.9163 - val_accuracy: 0.6840\n",
            "Epoch 25/50\n",
            "1407/1407 [==============================] - 17s 12ms/step - loss: 1.0009 - accuracy: 0.6500 - val_loss: 0.8379 - val_accuracy: 0.7136\n",
            "Epoch 26/50\n",
            "1407/1407 [==============================] - 17s 12ms/step - loss: 0.9890 - accuracy: 0.6561 - val_loss: 0.8301 - val_accuracy: 0.7078\n",
            "Epoch 27/50\n",
            "1407/1407 [==============================] - 17s 12ms/step - loss: 0.9736 - accuracy: 0.6635 - val_loss: 0.8656 - val_accuracy: 0.7032\n",
            "Epoch 28/50\n",
            "1407/1407 [==============================] - 17s 12ms/step - loss: 0.9727 - accuracy: 0.6604 - val_loss: 0.8366 - val_accuracy: 0.7106\n",
            "Epoch 29/50\n",
            "1407/1407 [==============================] - 16s 12ms/step - loss: 0.9594 - accuracy: 0.6695 - val_loss: 0.8013 - val_accuracy: 0.7294\n",
            "Epoch 30/50\n",
            "1407/1407 [==============================] - 16s 12ms/step - loss: 0.9598 - accuracy: 0.6663 - val_loss: 0.8347 - val_accuracy: 0.7170\n",
            "Epoch 31/50\n",
            "1407/1407 [==============================] - 17s 12ms/step - loss: 0.9444 - accuracy: 0.6768 - val_loss: 0.7994 - val_accuracy: 0.7310\n",
            "Epoch 32/50\n",
            "1407/1407 [==============================] - 16s 12ms/step - loss: 0.9379 - accuracy: 0.6763 - val_loss: 0.7963 - val_accuracy: 0.7294\n",
            "Epoch 33/50\n",
            "1407/1407 [==============================] - 16s 12ms/step - loss: 0.9294 - accuracy: 0.6812 - val_loss: 0.7911 - val_accuracy: 0.7320\n",
            "Epoch 34/50\n",
            "1407/1407 [==============================] - 16s 12ms/step - loss: 0.9289 - accuracy: 0.6824 - val_loss: 0.8232 - val_accuracy: 0.7298\n",
            "Epoch 35/50\n",
            "1407/1407 [==============================] - 17s 12ms/step - loss: 0.9208 - accuracy: 0.6836 - val_loss: 0.7666 - val_accuracy: 0.7344\n",
            "Epoch 36/50\n",
            "1407/1407 [==============================] - 17s 12ms/step - loss: 0.9180 - accuracy: 0.6849 - val_loss: 0.7922 - val_accuracy: 0.7308\n",
            "Epoch 37/50\n",
            "1407/1407 [==============================] - 16s 12ms/step - loss: 0.9128 - accuracy: 0.6856 - val_loss: 0.7640 - val_accuracy: 0.7404\n",
            "Epoch 38/50\n",
            "1407/1407 [==============================] - 17s 12ms/step - loss: 0.9118 - accuracy: 0.6882 - val_loss: 0.8184 - val_accuracy: 0.7276\n",
            "Epoch 39/50\n",
            "1407/1407 [==============================] - 17s 12ms/step - loss: 0.9064 - accuracy: 0.6889 - val_loss: 0.7517 - val_accuracy: 0.7484\n",
            "Epoch 40/50\n",
            "1407/1407 [==============================] - 17s 12ms/step - loss: 0.9051 - accuracy: 0.6907 - val_loss: 0.7777 - val_accuracy: 0.7378\n",
            "Epoch 41/50\n",
            "1407/1407 [==============================] - 17s 12ms/step - loss: 0.8982 - accuracy: 0.6926 - val_loss: 0.7799 - val_accuracy: 0.7446\n",
            "Epoch 42/50\n",
            "1407/1407 [==============================] - 17s 12ms/step - loss: 0.8964 - accuracy: 0.6956 - val_loss: 0.7706 - val_accuracy: 0.7514\n",
            "Epoch 43/50\n",
            "1407/1407 [==============================] - 17s 12ms/step - loss: 0.8942 - accuracy: 0.6957 - val_loss: 0.7511 - val_accuracy: 0.7546\n",
            "Epoch 44/50\n",
            "1407/1407 [==============================] - 17s 12ms/step - loss: 0.8873 - accuracy: 0.6966 - val_loss: 0.7912 - val_accuracy: 0.7316\n",
            "Epoch 45/50\n",
            "1407/1407 [==============================] - 17s 12ms/step - loss: 0.8840 - accuracy: 0.6984 - val_loss: 0.7821 - val_accuracy: 0.7484\n",
            "Epoch 46/50\n",
            "1407/1407 [==============================] - 17s 12ms/step - loss: 0.8834 - accuracy: 0.6997 - val_loss: 0.8032 - val_accuracy: 0.7404\n",
            "Epoch 47/50\n",
            "1407/1407 [==============================] - 17s 12ms/step - loss: 0.8792 - accuracy: 0.7002 - val_loss: 0.7727 - val_accuracy: 0.7514\n",
            "Epoch 48/50\n",
            "1407/1407 [==============================] - 17s 12ms/step - loss: 0.8791 - accuracy: 0.7005 - val_loss: 0.7566 - val_accuracy: 0.7598\n",
            "Epoch 49/50\n",
            "1407/1407 [==============================] - 17s 12ms/step - loss: 0.8752 - accuracy: 0.7029 - val_loss: 0.7920 - val_accuracy: 0.7522\n",
            "Epoch 50/50\n",
            "1407/1407 [==============================] - 16s 12ms/step - loss: 0.8740 - accuracy: 0.7042 - val_loss: 0.8019 - val_accuracy: 0.7474\n"
          ]
        }
      ],
      "source": [
        "history = custom_model.fit(x_train, y_train, validation_split = 0.1, shuffle=True, epochs = 50, batch_size = 32)"
      ]
    },
    {
      "cell_type": "code",
      "execution_count": 24,
      "metadata": {
        "colab": {
          "base_uri": "https://localhost:8080/",
          "height": 181
        },
        "id": "ve2WOtSnibwV",
        "outputId": "0e2d546a-3653-4479-f404-5178db49babb"
      },
      "outputs": [
        {
          "output_type": "execute_result",
          "data": {
            "text/plain": [
              "<matplotlib.legend.Legend at 0x7f17ed41e5d0>"
            ]
          },
          "metadata": {},
          "execution_count": 24
        },
        {
          "output_type": "display_data",
          "data": {
            "image/png": "[encoded data removed]",
            "text/plain": [
              "<Figure size 432x288 with 2 Axes>"
            ]
          },
          "metadata": {
            "needs_background": "light"
          }
        }
      ],
      "source": [
        "plt.subplot(2, 2, 1)\n",
        "plt.plot(history.history['accuracy'], label='accuracy')\n",
        "plt.plot(history.history['val_accuracy'], label='val_accuracy')\n",
        "plt.title('Accuracy Function Evolution')\n",
        "plt.legend()\n",
        "\n",
        "plt.subplot(2, 2, 2)\n",
        "plt.plot(history.history['loss'], label='loss')\n",
        "plt.plot(history.history['val_loss'], label='val_loss')\n",
        "plt.title('Loss Function Evolution')\n",
        "plt.legend()"
      ]
    },
    {
      "cell_type": "code",
      "source": [
        "score = custom_model.evaluate(x_test)\n",
        "print('Test loss : ', score[0])\n",
        "print('Test accuracy : ', score[1])"
      ],
      "metadata": {
        "id": "SWgHy_aUh1Nw"
      },
      "execution_count": null,
      "outputs": []
    },
    {
      "cell_type": "code",
      "execution_count": null,
      "metadata": {
        "colab": {
          "base_uri": "https://localhost:8080/"
        },
        "id": "vycFzj-fHn7Y",
        "outputId": "00b069a5-6b0e-4cbd-cf15-ce1b604ddfcc"
      },
      "outputs": [
        {
          "output_type": "stream",
          "name": "stdout",
          "text": [
            "(0, 'Airplane')\n",
            "(1, 'Automobile')\n",
            "(2, 'Bird')\n",
            "(3, 'Cat')\n",
            "(4, 'Deer')\n",
            "(5, 'Dog')\n",
            "(6, 'Frog')\n",
            "(7, 'Horse')\n",
            "(8, 'Ship')\n",
            "(9, 'Truck')\n"
          ]
        }
      ],
      "source": [
        "for i in enumerate(classes_name):\n",
        "  print(i)"
      ]
    },
    {
      "cell_type": "code",
      "source": [
        "classes_name = {0:'Airplane', 1:'Automobile', 2:'Bird', 3:'Cat', 4:'Deer', 5:'Dog', 6:'Frog', 7:'Horse', 8:'Ship', 9:'Truck'}"
      ],
      "metadata": {
        "id": "P1BzZ7-JJsPr"
      },
      "execution_count": null,
      "outputs": []
    },
    {
      "cell_type": "code",
      "execution_count": 27,
      "metadata": {
        "id": "6vu_m3POHLcQ"
      },
      "outputs": [],
      "source": [
        "y_predict = np.argmax(custom_model.predict(x_test), axis=1)\n"
      ]
    },
    {
      "cell_type": "code",
      "source": [
        "np.shape(y_predict)"
      ],
      "metadata": {
        "colab": {
          "base_uri": "https://localhost:8080/"
        },
        "id": "drgCQ2_YYee3",
        "outputId": "5d6e2a84-7c68-431d-bd8f-423729ee6b36"
      },
      "execution_count": 28,
      "outputs": [
        {
          "output_type": "execute_result",
          "data": {
            "text/plain": [
              "(10000,)"
            ]
          },
          "metadata": {},
          "execution_count": 28
        }
      ]
    },
    {
      "cell_type": "code",
      "execution_count": 51,
      "metadata": {
        "colab": {
          "base_uri": "https://localhost:8080/",
          "height": 284
        },
        "id": "FJQkrGZuHoAX",
        "outputId": "775d7f1b-a453-4900-bce5-c0dbefd5a201"
      },
      "outputs": [
        {
          "output_type": "stream",
          "name": "stdout",
          "text": [
            "AxesImage(54,36;334.8x217.44)\n"
          ]
        },
        {
          "output_type": "display_data",
          "data": {
            "image/png": "[encoded data removed]",
            "text/plain": [
              "<Figure size 432x288 with 1 Axes>"
            ]
          },
          "metadata": {
            "needs_background": "light"
          }
        }
      ],
      "source": [
        "print(plt.imshow(x_test[9]))"
      ]
    },
    {
      "cell_type": "code",
      "execution_count": 45,
      "metadata": {
        "colab": {
          "base_uri": "https://localhost:8080/"
        },
        "id": "kHIRXc-lJDD5",
        "outputId": "f28140e5-b09c-4cf5-e679-039ece0ce74c"
      },
      "outputs": [
        {
          "output_type": "execute_result",
          "data": {
            "text/plain": [
              "array([3, 1])"
            ]
          },
          "metadata": {},
          "execution_count": 45
        }
      ],
      "source": [
        "pred = np.argmax(custom_model.predict(np.array([x_test[77], x_test[9]])), axis=1)\n",
        "# classes_name[pred[0]]\n",
        "pred"
      ]
    }
  ],
  "metadata": {
    "accelerator": "GPU",
    "colab": {
      "collapsed_sections": [],
      "name": " Cifar-10 Image classifiction.ipynb",
      "provenance": [],
      "mount_file_id": "18FgcFFCH_Hc6LiB44gjTMvF3ixht3T9q",
      "authorship_tag": "ABX9TyNeRX/g1x3DEW0zavjOibm8",
      "include_colab_link": true
    },
    "kernelspec": {
      "display_name": "Python 3",
      "name": "python3"
    },
    "language_info": {
      "name": "python"
    }
  },
  "nbformat": 4,
  "nbformat_minor": 0
}